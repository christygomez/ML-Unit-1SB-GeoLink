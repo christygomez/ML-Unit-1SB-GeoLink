{
  "nbformat": 4,
  "nbformat_minor": 0,
  "metadata": {
    "kernelspec": {
      "display_name": "Python 3",
      "language": "python",
      "name": "python3"
    },
    "language_info": {
      "codemirror_mode": {
        "name": "ipython",
        "version": 3
      },
      "file_extension": ".py",
      "mimetype": "text/x-python",
      "name": "python",
      "nbconvert_exporter": "python",
      "pygments_lexer": "ipython3",
      "version": "3.8.3"
    },
    "toc": {
      "nav_menu": {},
      "number_sections": true,
      "sideBar": true,
      "skip_h1_title": false,
      "title_cell": "Python for Machine Learning: Contents",
      "title_sidebar": "Contents",
      "toc_cell": true,
      "toc_position": {
        "height": "calc(100% - 180px)",
        "left": "10px",
        "top": "150px",
        "width": "217px"
      },
      "toc_section_display": true,
      "toc_window_display": false
    },
    "colab": {
      "name": "python-for-ml.ipynb",
      "provenance": [],
      "include_colab_link": true
    }
  },
  "cells": [
    {
      "cell_type": "markdown",
      "metadata": {
        "id": "view-in-github",
        "colab_type": "text"
      },
      "source": [
        "<a href=\"https://colab.research.google.com/github/christygomez/ML-Unit-1SB-GeoLink/blob/main/python-for-ml.ipynb\" target=\"_parent\"><img src=\"https://colab.research.google.com/assets/colab-badge.svg\" alt=\"Open In Colab\"/></a>"
      ]
    },
    {
      "cell_type": "markdown",
      "metadata": {
        "toc": true,
        "id": "cc7ECBhkGmBN"
      },
      "source": [
        "<h1>Python for Machine Learning: Contents<span class=\"tocSkip\"></span></h1>\n",
        "<div class=\"toc\"><ul class=\"toc-item\"><li><span><a href=\"#Overview\" data-toc-modified-id=\"Overview-1\"><span class=\"toc-item-num\">1&nbsp;&nbsp;</span>Overview</a></span></li><li><span><a href=\"#Jupyter-Notebook\" data-toc-modified-id=\"Jupyter-Notebook-2\"><span class=\"toc-item-num\">2&nbsp;&nbsp;</span>Jupyter Notebook</a></span><ul class=\"toc-item\"><li><span><a href=\"#Command-Mode-and-Edit-Mode\" data-toc-modified-id=\"Command-Mode-and-Edit-Mode-2.1\"><span class=\"toc-item-num\">2.1&nbsp;&nbsp;</span>Command Mode and Edit Mode</a></span></li><li><span><a href=\"#Code-Cells-and-Markdown-Cells\" data-toc-modified-id=\"Code-Cells-and-Markdown-Cells-2.2\"><span class=\"toc-item-num\">2.2&nbsp;&nbsp;</span>Code Cells and Markdown Cells</a></span></li><li><span><a href=\"#Adding-and-deleting-cells\" data-toc-modified-id=\"Adding-and-deleting-cells-2.3\"><span class=\"toc-item-num\">2.3&nbsp;&nbsp;</span>Adding and deleting cells</a></span></li><li><span><a href=\"#Code-cells\" data-toc-modified-id=\"Code-cells-2.4\"><span class=\"toc-item-num\">2.4&nbsp;&nbsp;</span>Code cells</a></span></li></ul></li><li><span><a href=\"#Functions-in-Python\" data-toc-modified-id=\"Functions-in-Python-3\"><span class=\"toc-item-num\">3&nbsp;&nbsp;</span>Functions in Python</a></span><ul class=\"toc-item\"><li><span><a href=\"#times_two_v1\" data-toc-modified-id=\"times_two_v1-3.1\"><span class=\"toc-item-num\">3.1&nbsp;&nbsp;</span><code>times_two_v1</code></a></span></li><li><span><a href=\"#times_two_v2\" data-toc-modified-id=\"times_two_v2-3.2\"><span class=\"toc-item-num\">3.2&nbsp;&nbsp;</span><code>times_two_v2</code></a></span></li><li><span><a href=\"#fibonacci\" data-toc-modified-id=\"fibonacci-3.3\"><span class=\"toc-item-num\">3.3&nbsp;&nbsp;</span><code>fibonacci</code></a></span></li><li><span><a href=\"#unzip\" data-toc-modified-id=\"unzip-3.4\"><span class=\"toc-item-num\">3.4&nbsp;&nbsp;</span><code>unzip</code></a></span></li><li><span><a href=\"#mean\" data-toc-modified-id=\"mean-3.5\"><span class=\"toc-item-num\">3.5&nbsp;&nbsp;</span><code>mean</code></a></span></li><li><span><a href=\"#std_dev\" data-toc-modified-id=\"std_dev-3.6\"><span class=\"toc-item-num\">3.6&nbsp;&nbsp;</span><code>std_dev</code></a></span></li><li><span><a href=\"#mode\" data-toc-modified-id=\"mode-3.7\"><span class=\"toc-item-num\">3.7&nbsp;&nbsp;</span><code>mode</code></a></span></li></ul></li><li><span><a href=\"#Numpy\" data-toc-modified-id=\"Numpy-4\"><span class=\"toc-item-num\">4&nbsp;&nbsp;</span>Numpy</a></span><ul class=\"toc-item\"><li><span><a href=\"#Creating-a-numpy-array\" data-toc-modified-id=\"Creating-a-numpy-array-4.1\"><span class=\"toc-item-num\">4.1&nbsp;&nbsp;</span>Creating a numpy array</a></span></li><li><span><a href=\"#Shape-of-a-numpy-array\" data-toc-modified-id=\"Shape-of-a-numpy-array-4.2\"><span class=\"toc-item-num\">4.2&nbsp;&nbsp;</span>Shape of a numpy array</a></span></li><li><span><a href=\"#Creating-a-numpy-array-with-shape-(2,-4,-3)\" data-toc-modified-id=\"Creating-a-numpy-array-with-shape-(2,-4,-3)-4.3\"><span class=\"toc-item-num\">4.3&nbsp;&nbsp;</span>Creating a numpy array with shape (2, 4, 3)</a></span></li><li><span><a href=\"#Array-Indexing\" data-toc-modified-id=\"Array-Indexing-4.4\"><span class=\"toc-item-num\">4.4&nbsp;&nbsp;</span>Array Indexing</a></span></li><li><span><a href=\"#An-array-of-zeros\" data-toc-modified-id=\"An-array-of-zeros-4.5\"><span class=\"toc-item-num\">4.5&nbsp;&nbsp;</span>An array of zeros</a></span><ul class=\"toc-item\"><li><span><a href=\"#A-Note-on-Keyword-Arguments\" data-toc-modified-id=\"A-Note-on-Keyword-Arguments-4.5.1\"><span class=\"toc-item-num\">4.5.1&nbsp;&nbsp;</span>A Note on Keyword Arguments</a></span></li></ul></li><li><span><a href=\"#Array-of-integers\" data-toc-modified-id=\"Array-of-integers-4.6\"><span class=\"toc-item-num\">4.6&nbsp;&nbsp;</span>Array of integers</a></span></li></ul></li><li><span><a href=\"#Matplotlib\" data-toc-modified-id=\"Matplotlib-5\"><span class=\"toc-item-num\">5&nbsp;&nbsp;</span>Matplotlib</a></span><ul class=\"toc-item\"><li><span><a href=\"#Making-Histograms\" data-toc-modified-id=\"Making-Histograms-5.1\"><span class=\"toc-item-num\">5.1&nbsp;&nbsp;</span>Making Histograms</a></span></li><li><span><a href=\"#Subplots-and-Saving-a-Figure\" data-toc-modified-id=\"Subplots-and-Saving-a-Figure-5.2\"><span class=\"toc-item-num\">5.2&nbsp;&nbsp;</span>Subplots and Saving a Figure</a></span></li></ul></li><li><span><a href=\"#Generating-and-Visualizing-Noisy-Data\" data-toc-modified-id=\"Generating-and-Visualizing-Noisy-Data-6\"><span class=\"toc-item-num\">6&nbsp;&nbsp;</span>Generating and Visualizing Noisy Data</a></span><ul class=\"toc-item\"><li><span><a href=\"#Numpy-Broadcasting\" data-toc-modified-id=\"Numpy-Broadcasting-6.1\"><span class=\"toc-item-num\">6.1&nbsp;&nbsp;</span>Numpy Broadcasting</a></span></li><li><span><a href=\"#Creating-a-Data-Set\" data-toc-modified-id=\"Creating-a-Data-Set-6.2\"><span class=\"toc-item-num\">6.2&nbsp;&nbsp;</span>Creating a Data Set</a></span></li><li><span><a href=\"#Reflection\" data-toc-modified-id=\"Reflection-6.3\"><span class=\"toc-item-num\">6.3&nbsp;&nbsp;</span>Reflection</a></span></li></ul></li></ul></div>"
      ]
    },
    {
      "cell_type": "markdown",
      "metadata": {
        "id": "aZOgoKfHGmBR"
      },
      "source": [
        "# Overview"
      ]
    },
    {
      "cell_type": "markdown",
      "metadata": {
        "id": "0c94gMyvGmBx"
      },
      "source": [
        "The following challenges will introduce you to some of the most important features of python for machine learning. We will be running our python code using this Jupyter notebook, which allows us to intersperse markdown cells (like this cell) and code cells. Before we dive into python, here's a little background on the Jupyter Notebook environment.\n",
        "\n",
        "*See the resources in the README for more information on Jupyter!*"
      ]
    },
    {
      "cell_type": "markdown",
      "metadata": {
        "id": "adLel4UnGmBy"
      },
      "source": [
        "# Jupyter Notebook"
      ]
    },
    {
      "cell_type": "markdown",
      "metadata": {
        "id": "KxrbjRsWGmBz"
      },
      "source": [
        "## Command Mode and Edit Mode\n",
        "Every cell can be viewed in one of two modes: edit mode or command mode. Identify which cell you are focused on right now (it will be outlined in blue or green). The color of the outline indicates which mode you are in (blue for command mode and green for edit mode).\n",
        "\n",
        "**A cell in command mode:**\n",
        "![](https://github.com/christygomez/ML-Unit-1SB-GeoLink/blob/main/docs/assets/images/command-mode.png?raw=1)\n",
        "\n",
        "**A cell in edit mode:**\n",
        "![](https://github.com/christygomez/ML-Unit-1SB-GeoLink/blob/main/docs/assets/images/edit-mode.png?raw=1)\n",
        "\n",
        "1. While in command mode (you will start in command mode by default) use your up and down arrow keys to move between cells. Use your down arrow to highlight this cell.\n",
        "1. Hit `enter` to switch to edit mode. Now you are able to edit the content of this cell!\n",
        "1. Hit `escape` to toggle back to command mode.\n",
        "1. Despite switching back to command mode, the cell hasn't been re-rendered to display as html. To run the cell, hit `shift` and `enter` simultaneously."
      ]
    },
    {
      "cell_type": "markdown",
      "metadata": {
        "id": "RQMih1PdGmB0"
      },
      "source": [
        "## Code Cells and Markdown Cells\n",
        "There are two types of cells: cells that contain markdown and cells that contain code.\n",
        "\n",
        "1. Highlight this cell and make sure you are in command mode.\n",
        "1. Hit `y` to switch it to a cell code.\n",
        "1. Hit `m` to toggle it back to a markdown cell."
      ]
    },
    {
      "cell_type": "markdown",
      "metadata": {
        "id": "VbUsfX0bGmB1"
      },
      "source": [
        "## Adding and deleting cells\n",
        "1. Highlight this cell in command mode.\n",
        "1. Hit `a` to add an empty cell above the current cell.\n",
        "1. Hit `b` to add an empty cell below the current cell.\n",
        "1. Hit `d` twice repeatedly to delete the highlighted cell."
      ]
    },
    {
      "cell_type": "markdown",
      "metadata": {
        "id": "kvezvJvvGmB2"
      },
      "source": [
        "## Code cells\n",
        "You can run code cells with the same command we used to run a markdown cell earlier:\n",
        "\n",
        "1. Use your arrow keys to highlight the code cell below.\n",
        "1. While in command mode, hit `shift` and `enter` at the same time."
      ]
    },
    {
      "cell_type": "code",
      "metadata": {
        "id": "c3CA2BouGmB3",
        "outputId": "11c052d3-a563-4d41-823a-2c238f8d6fda",
        "colab": {
          "base_uri": "https://localhost:8080/"
        }
      },
      "source": [
        "# Comments in python begin with a hash\n",
        "# This cell imports two libraries we will use later\n",
        "import matplotlib.pyplot as plt\n",
        "import numpy as np\n",
        "\n",
        "# Use print instead of console.log\n",
        "print('This will appear directly below the code cell when it is run.')"
      ],
      "execution_count": 1,
      "outputs": [
        {
          "output_type": "stream",
          "text": [
            "This will appear directly below the code cell when it is run.\n"
          ],
          "name": "stdout"
        }
      ]
    },
    {
      "cell_type": "markdown",
      "metadata": {
        "id": "an9bJAtcGmB4"
      },
      "source": [
        "There is a python kernel running as a daemon, which is responsible for managing the variable environment and executing code cells. If you encounter errors, or loose track of what a variable refers to (this can happen if you run cells out of order), you may want to restart the kernel. You can do this from the `kernel` tab in the GUI above."
      ]
    },
    {
      "cell_type": "markdown",
      "metadata": {
        "id": "TSS1QHbdGmB5"
      },
      "source": [
        "# Functions in Python"
      ]
    },
    {
      "cell_type": "markdown",
      "metadata": {
        "id": "2oCVWi6BGmB5"
      },
      "source": [
        "Now that we're acquainted with the Jupyter Notebook interface, let's talk about python!\n",
        "\n",
        "We'll start by comparing some javascript code with equivalent python code. In javascript, we have:\n",
        "```javascript\n",
        "function addTwo(x){\n",
        "    var sum = x + 2;\n",
        "    return sum;\n",
        "}\n",
        "\n",
        "console.log(addTwo(3)) // prints 5\n",
        "```\n",
        "\n",
        "The same function would be written as follows in python:\n",
        "\n",
        "```python\n",
        "def add_two(x):\n",
        "    sum = x + 2\n",
        "    return sum\n",
        "    \n",
        "print(add_two(3)) # prints 5\n",
        "```\n",
        "\n",
        "Here are some notes on python syntax, which are exemplified in the code example above:\n",
        "* The keyword for defining a function is `def` instead of `function`.\n",
        "* In almost all cases where you would use a set of curly braces in javascript, in python, we will use a colon followed by an indented block of code. How many spaces/indents does not matter, as long as everything in the same block has the same amount of indentation.\n",
        "* Python variables are usually written in snake-case rather than camel-case\n",
        "* The `return` keyword behaves nearly identically to javascript\n",
        "* No keyword is used for variable initialization. Variable scoping rules work similarly to variables declared with `var` in javascript (there are notable differences which are unlikely to appear in this unit. If you are absolutely dying to know, look into the python keyword `global`).\n",
        "* lines of code don't end with semicolons"
      ]
    },
    {
      "cell_type": "markdown",
      "metadata": {
        "id": "ORBJdZyvGmB7"
      },
      "source": [
        "## `times_two_v1`\n",
        "1. Define a function `times_two_v1` that accepts a list and returns a list containing each element multiplied by two. Use a [for loop](https://www.w3schools.com/python/python_for_loops.asp) to accomplish this.\n",
        "\n",
        "*Note: the keyword `pass` is a placeholder that is ignored by the interpreter. It is necessary to write because the python interpreter expects an indented block after a colon. You may delete it before writing your code.*"
      ]
    },
    {
      "cell_type": "markdown",
      "metadata": {
        "id": "s8vEVGepGmCB"
      },
      "source": [
        "If your function is working, nothing should happen when you run the code cell below. If your function isn't working, the cell below will throw an AssertionError."
      ]
    },
    {
      "cell_type": "code",
      "metadata": {
        "id": "US6M7kSLMisB",
        "outputId": "369cea95-ec70-4fe2-c086-cfad83147fb9",
        "colab": {
          "base_uri": "https://localhost:8080/"
        }
      },
      "source": [
        "def times_two_v1(num_list):\n",
        "  new_list = []\n",
        "  for num in num_list:\n",
        "    new_list.append(num*2)\n",
        "  return new_list\n",
        "\n",
        "print(times_two_v1([1,2,3]))"
      ],
      "execution_count": 27,
      "outputs": [
        {
          "output_type": "stream",
          "text": [
            "[2, 4, 6]\n"
          ],
          "name": "stdout"
        }
      ]
    },
    {
      "cell_type": "code",
      "metadata": {
        "id": "YBRuuSMxGmCC"
      },
      "source": [
        "assert times_two_v1([1,2,3]) == [2,4,6]"
      ],
      "execution_count": 28,
      "outputs": []
    },
    {
      "cell_type": "markdown",
      "metadata": {
        "id": "b7g6jCLDGmCD"
      },
      "source": [
        "## `times_two_v2`\n",
        "1. Define a function `times_two_v2` that accepts a list and returns a list containing each element multiplied by two. This time, use a [list comprehension](https://realpython.com/list-comprehension-python/#using-list-comprehensions)."
      ]
    },
    {
      "cell_type": "code",
      "metadata": {
        "id": "rNkJrawXGmCI",
        "outputId": "85b7b0d8-9a81-4114-f12b-d483e8fa586f",
        "colab": {
          "base_uri": "https://localhost:8080/"
        }
      },
      "source": [
        "def times_two_v2(num_list):\n",
        "    newlist = [num*2 for num in num_list]\n",
        "    return newlist\n",
        "\n",
        "print(times_two_v2([1,2,5]))"
      ],
      "execution_count": 29,
      "outputs": [
        {
          "output_type": "stream",
          "text": [
            "[2, 4, 10]\n"
          ],
          "name": "stdout"
        }
      ]
    },
    {
      "cell_type": "code",
      "metadata": {
        "id": "qU-7lhKPGmCK"
      },
      "source": [
        "assert times_two_v2([1,2,3]) == [2,4,6]"
      ],
      "execution_count": 30,
      "outputs": []
    },
    {
      "cell_type": "code",
      "metadata": {
        "id": "uiHCPVbMIxZk"
      },
      "source": [
        ""
      ],
      "execution_count": null,
      "outputs": []
    },
    {
      "cell_type": "markdown",
      "metadata": {
        "id": "-F4quMaJGmCM"
      },
      "source": [
        "## `fibonacci`\n",
        "Python, like javascript, has a syntax for assigning a default value to a parameter. Unlike javascript, if the value of a default parameter is a mutable datatype (e.g. a dictionary), the default value will be persisted across function calls. We can therefore make changes and updates to the default value. As an example, we can create memoized functions by passing a default cache that stores the results of previous function calls.\n",
        "\n",
        "1. Create function which computes the nth fibonacci number. The function should be memoized."
      ]
    },
    {
      "cell_type": "code",
      "metadata": {
        "id": "4emQ4Th2GmCQ",
        "outputId": "2ff1e04f-87e7-4c37-debb-11556a6b363f",
        "colab": {
          "base_uri": "https://localhost:8080/"
        }
      },
      "source": [
        "def fibonacci(n, cache = {}):\n",
        "  if n==0:\n",
        "    return 0\n",
        "  if n == 1:\n",
        "    return 1\n",
        "\n",
        "  cache[0] = 0\n",
        "  cache[1] = 1\n",
        "\n",
        "  for num in range(2,n+1):\n",
        "    cache[num] = cache[num-1] + cache[num-2]\n",
        "\n",
        "  return cache[n]\n",
        "print(fibonacci(10))"
      ],
      "execution_count": 80,
      "outputs": [
        {
          "output_type": "stream",
          "text": [
            "55\n"
          ],
          "name": "stdout"
        }
      ]
    },
    {
      "cell_type": "code",
      "metadata": {
        "id": "AKPkeZAQGmCT"
      },
      "source": [
        "assert fibonacci(0) == 0\n",
        "assert fibonacci(1) == 1\n",
        "assert fibonacci(2) == 1\n",
        "assert fibonacci(3) == 2\n",
        "assert fibonacci(4) == 3\n",
        "assert fibonacci(5) == 5\n",
        "assert fibonacci(10) == 55"
      ],
      "execution_count": 81,
      "outputs": []
    },
    {
      "cell_type": "code",
      "metadata": {
        "id": "1AHl631TZJu5"
      },
      "source": [
        ""
      ],
      "execution_count": 83,
      "outputs": []
    },
    {
      "cell_type": "markdown",
      "metadata": {
        "id": "geWXEWufGmCZ"
      },
      "source": [
        "## `unzip`\n",
        "1. Write a function that accepts a list, `num_list`, and returns a tuple containing two lists, `(left, right)`. The list `left` should contain all of the even-indexed values in `num_list`, and `right` should contain the odd-indexed values in `num_list`. You should be able to achieve this without using for loops.\n",
        "\n",
        "*Hint: look into python [list slicing](https://www.pythoncentral.io/how-to-slice-listsarrays-and-tuples-in-python/)*"
      ]
    },
    {
      "cell_type": "code",
      "metadata": {
        "id": "D2z2j9ZxGmCh"
      },
      "source": [
        "def unzip(num_list):\n",
        "  return (num_list[::2],num_list[1::2])"
      ],
      "execution_count": 87,
      "outputs": []
    },
    {
      "cell_type": "code",
      "metadata": {
        "id": "dZcRKeWUGmCj"
      },
      "source": [
        "assert unzip([1,2,3,4,5,6]) == ([1,3,5], [2,4,6])\n",
        "assert unzip([7,6,5,4,3,2,1]) == ([7,5,3,1], [6,4,2])"
      ],
      "execution_count": 88,
      "outputs": []
    },
    {
      "cell_type": "markdown",
      "metadata": {
        "id": "JYduI2UAGmCl"
      },
      "source": [
        "In the next few challenges, we will write functions that compute common summary statistics (i.e. statistics that are meant to summarize a set of values)."
      ]
    },
    {
      "cell_type": "markdown",
      "metadata": {
        "id": "ZJZmVdtTGmCm"
      },
      "source": [
        "## `mean`\n",
        "1. Write a function, `mean`, that returns the mean (i.e. average) of a list. See if you can avoid using for loops by leveraging [built in python functions](https://docs.python.org/2/library/functions.html)."
      ]
    },
    {
      "cell_type": "code",
      "metadata": {
        "id": "0RH0PiIgGmCn"
      },
      "source": [
        "def mean(num_list): \n",
        "  return sum(num_list)/len(num_list)"
      ],
      "execution_count": 94,
      "outputs": []
    },
    {
      "cell_type": "code",
      "metadata": {
        "id": "-_YkKAaZGmCq"
      },
      "source": [
        "assert mean([5,5,5,5,5]) == 5\n",
        "assert mean([5,20,8,-1,0,0,2,16]) == 6.25"
      ],
      "execution_count": 95,
      "outputs": []
    },
    {
      "cell_type": "markdown",
      "metadata": {
        "id": "zr_1xwgMGmCs"
      },
      "source": [
        "## `std_dev`\n",
        "1. Write a function, `std_dev`, that computes the [sample standard deviation](https://www.mathsisfun.com/data/standard-deviation.html) of a list. Informally, the standard deviation of a set of numbers is a measure of how spread out the numbers are, or how far away from the mean a typical number in the set is.\n",
        "\n",
        "*hint: you may want to import the math module for its sqaure root method*"
      ]
    },
    {
      "cell_type": "code",
      "metadata": {
        "id": "UWsOxmreGmCy",
        "outputId": "5eccc71f-426f-4956-a322-8a569306cbe3",
        "colab": {
          "base_uri": "https://localhost:8080/"
        }
      },
      "source": [
        "import math\n",
        "def std_dev(num_list):\n",
        "  mean = sum(num_list)/len(num_list)\n",
        "  var = 0\n",
        "  for num in num_list:\n",
        "    var = var + (num-mean)**2\n",
        "  return math.sqrt(var/len(num_list))\n",
        "\n",
        "std_dev([5,20,8,-1,0,0,2,16])"
      ],
      "execution_count": 120,
      "outputs": [
        {
          "output_type": "execute_result",
          "data": {
            "text/plain": [
              "7.39509972887452"
            ]
          },
          "metadata": {
            "tags": []
          },
          "execution_count": 120
        }
      ]
    },
    {
      "cell_type": "code",
      "metadata": {
        "id": "iyvcKVvDGmCy"
      },
      "source": [
        "assert std_dev([5,5,5,5,5]) == 0\n",
        "assert std_dev([5,20,8,-1,0,0,2,16]) == 7.39509972887452"
      ],
      "execution_count": 118,
      "outputs": []
    },
    {
      "cell_type": "markdown",
      "metadata": {
        "id": "m2FBke35GmCz"
      },
      "source": [
        "## `mode`\n",
        "1. Write a function, `mode`, that computes the mode(s) of a list (i.e. the value(s) that appear the most). Return a sorted list of the modes. Hint: check out Python's Counter library or statistics library."
      ]
    },
    {
      "cell_type": "code",
      "metadata": {
        "id": "g0IbkxqGGmC0",
        "outputId": "e9ed7ff5-ab5f-4cee-f854-c39372731007",
        "colab": {
          "base_uri": "https://localhost:8080/"
        }
      },
      "source": [
        "from collections import Counter\n",
        "\n",
        "def mode(num_list):\n",
        "  result =[]\n",
        "  freq = Counter(num_list)\n",
        "  max = 0\n",
        "  for key,value in freq.items():\n",
        "    if value>max:\n",
        "      max=value\n",
        "  for key,value in freq.items():\n",
        "    if value == max:\n",
        "      result.append(key)\n",
        "  return sorted(result)\n",
        "mode([2,2,2,2,1,1,1,1,3,3,3,3,4,4,5,5,5])"
      ],
      "execution_count": 151,
      "outputs": [
        {
          "output_type": "execute_result",
          "data": {
            "text/plain": [
              "[1, 2, 3]"
            ]
          },
          "metadata": {
            "tags": []
          },
          "execution_count": 151
        }
      ]
    },
    {
      "cell_type": "code",
      "metadata": {
        "id": "FcCVuldeGmC0",
        "outputId": "6ed5e202-045e-4e56-e04d-1cda9aeb3e78",
        "colab": {
          "base_uri": "https://localhost:8080/",
          "height": 198
        }
      },
      "source": [
        "assert mode([5,5,5,5,5]) == [5]\n",
        "assert mode([5,20,8,-1,0,0,2,16]) == [0]\n",
        "assert mode([2,2,1,1,3]) == [1,2]"
      ],
      "execution_count": 126,
      "outputs": [
        {
          "output_type": "error",
          "ename": "AssertionError",
          "evalue": "ignored",
          "traceback": [
            "\u001b[0;31m---------------------------------------------------------------------------\u001b[0m",
            "\u001b[0;31mAssertionError\u001b[0m                            Traceback (most recent call last)",
            "\u001b[0;32m<ipython-input-126-460aef40081e>\u001b[0m in \u001b[0;36m<module>\u001b[0;34m()\u001b[0m\n\u001b[0;32m----> 1\u001b[0;31m \u001b[0;32massert\u001b[0m \u001b[0mmode\u001b[0m\u001b[0;34m(\u001b[0m\u001b[0;34m[\u001b[0m\u001b[0;36m5\u001b[0m\u001b[0;34m,\u001b[0m\u001b[0;36m5\u001b[0m\u001b[0;34m,\u001b[0m\u001b[0;36m5\u001b[0m\u001b[0;34m,\u001b[0m\u001b[0;36m5\u001b[0m\u001b[0;34m,\u001b[0m\u001b[0;36m5\u001b[0m\u001b[0;34m]\u001b[0m\u001b[0;34m)\u001b[0m \u001b[0;34m==\u001b[0m \u001b[0;34m[\u001b[0m\u001b[0;36m5\u001b[0m\u001b[0;34m]\u001b[0m\u001b[0;34m\u001b[0m\u001b[0;34m\u001b[0m\u001b[0m\n\u001b[0m\u001b[1;32m      2\u001b[0m \u001b[0;32massert\u001b[0m \u001b[0mmode\u001b[0m\u001b[0;34m(\u001b[0m\u001b[0;34m[\u001b[0m\u001b[0;36m5\u001b[0m\u001b[0;34m,\u001b[0m\u001b[0;36m20\u001b[0m\u001b[0;34m,\u001b[0m\u001b[0;36m8\u001b[0m\u001b[0;34m,\u001b[0m\u001b[0;34m-\u001b[0m\u001b[0;36m1\u001b[0m\u001b[0;34m,\u001b[0m\u001b[0;36m0\u001b[0m\u001b[0;34m,\u001b[0m\u001b[0;36m0\u001b[0m\u001b[0;34m,\u001b[0m\u001b[0;36m2\u001b[0m\u001b[0;34m,\u001b[0m\u001b[0;36m16\u001b[0m\u001b[0;34m]\u001b[0m\u001b[0;34m)\u001b[0m \u001b[0;34m==\u001b[0m \u001b[0;34m[\u001b[0m\u001b[0;36m0\u001b[0m\u001b[0;34m]\u001b[0m\u001b[0;34m\u001b[0m\u001b[0;34m\u001b[0m\u001b[0m\n\u001b[1;32m      3\u001b[0m \u001b[0;32massert\u001b[0m \u001b[0mmode\u001b[0m\u001b[0;34m(\u001b[0m\u001b[0;34m[\u001b[0m\u001b[0;36m2\u001b[0m\u001b[0;34m,\u001b[0m\u001b[0;36m2\u001b[0m\u001b[0;34m,\u001b[0m\u001b[0;36m1\u001b[0m\u001b[0;34m,\u001b[0m\u001b[0;36m1\u001b[0m\u001b[0;34m,\u001b[0m\u001b[0;36m3\u001b[0m\u001b[0;34m]\u001b[0m\u001b[0;34m)\u001b[0m \u001b[0;34m==\u001b[0m \u001b[0;34m[\u001b[0m\u001b[0;36m1\u001b[0m\u001b[0;34m,\u001b[0m\u001b[0;36m2\u001b[0m\u001b[0;34m]\u001b[0m\u001b[0;34m\u001b[0m\u001b[0;34m\u001b[0m\u001b[0m\n",
            "\u001b[0;31mAssertionError\u001b[0m: "
          ]
        }
      ]
    },
    {
      "cell_type": "markdown",
      "metadata": {
        "id": "afooqS3VGmC1"
      },
      "source": [
        "# Numpy"
      ]
    },
    {
      "cell_type": "markdown",
      "metadata": {
        "id": "C3rc4jR3GmC2"
      },
      "source": [
        "Numpy is a library for creating, storing, and operating on *multi-dimensional arrays*. All numpy arrays must be *singly-typed*, i.e. every element in a numpy array must be the same data type. Usually we will work with arrays of integers or floating points.\n",
        "\n",
        "We will dive further into numpy in the upcoming challenges."
      ]
    },
    {
      "cell_type": "markdown",
      "metadata": {
        "id": "XyuZwVstGmC4"
      },
      "source": [
        "## Creating a numpy array\n",
        "1. In the cell below, use the method `np.array` to turn `a_python_list` into a numpy array. Store the result in the variable `a_numpy_array`."
      ]
    },
    {
      "cell_type": "code",
      "metadata": {
        "id": "1LfPv83GGmC5"
      },
      "source": [
        "a_python_list = [[1,2,3], [4,5,6]]\n",
        "\n",
        "# Create a numpy array below\n",
        "a_numpy_array = ..."
      ],
      "execution_count": null,
      "outputs": []
    },
    {
      "cell_type": "code",
      "metadata": {
        "id": "orbITPVPGmC8"
      },
      "source": [
        "assert type(a_python_list) is list\n",
        "assert type(a_numpy_array) is np.ndarray"
      ],
      "execution_count": null,
      "outputs": []
    },
    {
      "cell_type": "markdown",
      "metadata": {
        "id": "fag-H9kKGmC9"
      },
      "source": [
        "## Shape of a numpy array\n",
        "Every numpy array has a defined *shape*, which describes how big it is in each dimension. For example, consider the following arrays:"
      ]
    },
    {
      "cell_type": "code",
      "metadata": {
        "id": "WVycmLS0GmC9"
      },
      "source": [
        "arr_1 = np.array([1,2,3])\n",
        "arr_2 = np.array([\n",
        "    [1, 2],\n",
        "    [2, 3],\n",
        "    [3, 4]\n",
        "])\n",
        "\n",
        "assert arr_1.shape == (3,)\n",
        "assert arr_2.shape == (3, 2)"
      ],
      "execution_count": null,
      "outputs": []
    },
    {
      "cell_type": "markdown",
      "metadata": {
        "id": "a8Zf0BOFGmDC"
      },
      "source": [
        "As we see in the cell above, the property `shape` is a tuple that describes the dimensionality of an array. Since `arr_1` has no extra levels of nesting, it is a 1-dimensional array (i.e. `arr_1.shape` has length 1). Since it holds three values, its shape is the tuple `(3,)`.\n",
        "\n",
        "`arr_2` has two levels of nesting. Therefore, it is a two dimensional array (i.e. `arr_2.shape` has length 2). Since it has 3 rows, and there are two columns in each row, its shape is `(3,2)`.\n",
        "\n",
        "A numpy array can be more than 2-dimensional - it can have arbitrary levels of nesting. Note that we can compute the total number of elements in `arr_2`, or any numpy array for that matter, by taking the product of its dimensions (i.e. there are `3 * 2 = 6` elements in `arr_2`)."
      ]
    },
    {
      "cell_type": "markdown",
      "metadata": {
        "id": "ujKeYaDFGmDD"
      },
      "source": [
        "## Creating a numpy array with shape (2, 4, 3)\n",
        "1. In the cell below, create a numpy array with the shape `(2, 4, 3)`."
      ]
    },
    {
      "cell_type": "code",
      "metadata": {
        "id": "YzIkRGqFGmDD"
      },
      "source": [
        "array_243 = ..."
      ],
      "execution_count": null,
      "outputs": []
    },
    {
      "cell_type": "code",
      "metadata": {
        "id": "nHjiM_CSGmDE"
      },
      "source": [
        "assert array_243.shape == (2,4,3)"
      ],
      "execution_count": null,
      "outputs": []
    },
    {
      "cell_type": "markdown",
      "metadata": {
        "id": "m8IGB01fGmDE"
      },
      "source": [
        "Note that not all singly-typed python lists can be turned into numpy arrays in a nice way. That's because they may not have a well-defined shape. Consider the scenario in the cell below:"
      ]
    },
    {
      "cell_type": "code",
      "metadata": {
        "id": "u5fv9RwPGmDF"
      },
      "source": [
        "no_defined_shape = [\n",
        "    [1,2],\n",
        "    [1,2,3]\n",
        "]"
      ],
      "execution_count": null,
      "outputs": []
    },
    {
      "cell_type": "markdown",
      "metadata": {
        "id": "ShYQy7lVGmDF"
      },
      "source": [
        "This list doesn't have a well-defined shape since each row has a different number of columns. If we try to turn it into a numpy array, we will get some unintended behavior, resulting in a warning error. Numpy will create an array with shape `(2,)` that holds two different lists, instead of making an array of numbers."
      ]
    },
    {
      "cell_type": "code",
      "metadata": {
        "id": "fbOxHzx3GmDF"
      },
      "source": [
        "bad_array = np.array(no_defined_shape)\n",
        "assert bad_array.shape == (2,)"
      ],
      "execution_count": null,
      "outputs": []
    },
    {
      "cell_type": "markdown",
      "metadata": {
        "id": "sGnlagwKGmDG"
      },
      "source": [
        "## Array Indexing\n",
        "Numpy gives us a number of convenient ways to select and copy subsets of arrays. Consider the example below:"
      ]
    },
    {
      "cell_type": "code",
      "metadata": {
        "id": "6T0gstPqGmDG"
      },
      "source": [
        "indexing_ex = np.array([\n",
        "    [1,2,3],\n",
        "    [4,5,6],\n",
        "    [7,8,9]\n",
        "])\n",
        "\n",
        "allrows_firstcol = indexing_ex[:,1]\n",
        "assert np.array_equal(allrows_firstcol, [2, 5, 8])"
      ],
      "execution_count": null,
      "outputs": []
    },
    {
      "cell_type": "markdown",
      "metadata": {
        "id": "m4YRjOSeGmDH"
      },
      "source": [
        "1. In the cell below, use array indexing to create a copy of the first two rows and the first two columns of `indexing_ex`. Store the result in the variable `subset_22`."
      ]
    },
    {
      "cell_type": "code",
      "metadata": {
        "id": "4lfSPGAxGmDJ"
      },
      "source": [
        "subset_22 = ..."
      ],
      "execution_count": null,
      "outputs": []
    },
    {
      "cell_type": "code",
      "metadata": {
        "id": "C5zRr4KaGmDK"
      },
      "source": [
        "assert np.array_equal(subset_22, [[1,2], [4,5]])"
      ],
      "execution_count": null,
      "outputs": []
    },
    {
      "cell_type": "markdown",
      "metadata": {
        "id": "xzjKDyneGmDM"
      },
      "source": [
        "We'll revisit more complex array indexing/subsetting after we've introduced some common operations on numpy arrays."
      ]
    },
    {
      "cell_type": "markdown",
      "metadata": {
        "id": "d8rP_rNRGmDO"
      },
      "source": [
        "## An array of zeros\n",
        "We don't need to create a numpy array based on an existing python list. There are a number of numpy methods that create new arrays with certain properties. `np.zeros`, for example, creates an array filled with zeros.\n",
        "\n",
        "1. In the cell below, use `np.zeros` to create an array of zeros with shape `(2,2)`. Store the result in the variable `arr_22`."
      ]
    },
    {
      "cell_type": "code",
      "metadata": {
        "id": "GqEsdmmzGmDQ"
      },
      "source": [
        "arr_22 = ..."
      ],
      "execution_count": null,
      "outputs": []
    },
    {
      "cell_type": "code",
      "metadata": {
        "id": "ZwLzui0BGmDQ"
      },
      "source": [
        "assert np.array_equal(arr_22, [[0,0],[0,0]] )"
      ],
      "execution_count": null,
      "outputs": []
    },
    {
      "cell_type": "markdown",
      "metadata": {
        "id": "42lhqLvcGmDR"
      },
      "source": [
        "### A Note on Keyword Arguments\n",
        "\n",
        "We can invoke python functions with *keyword arguments*. These make it convenient when we want to override some of the default parameter values, but not all of them. Consider the function:\n",
        "\n",
        "```python\n",
        "def example_func(x=1, y=2, z=3):\n",
        "    return x + y + z \n",
        "```\n",
        "\n",
        "If we want to override the default value of `z`, but we want to keep the default values of `x` and `y`, it would be a pain if we had to pass every argument to `example_func` like so: \n",
        "```python\n",
        "example_func(1, 2, 8)\n",
        "``` \n",
        "\n",
        "Instead, we can simply call our function this way:\n",
        "```python\n",
        "example_func(z=8)\n",
        "```\n",
        "\n",
        "Arguments that are passed without a name are called *positional arguments*. When invoking a function, you must always pass all of the positional arguments before passing any keyword arguments. We'll see keyword arguments used frequently when invoking methods from scientific libraries like numpy and matplotlib."
      ]
    },
    {
      "cell_type": "markdown",
      "metadata": {
        "id": "xgwnCridGmDR"
      },
      "source": [
        "## Array of integers\n",
        "1. By default, `np.zeros` will create an array of floating points. Use `np.zeros` to create an array of zeros with shape `(2,2)`. This time, pass a keyword argument named `dtype` so that `np.zeros` creates an array of integers."
      ]
    },
    {
      "cell_type": "code",
      "metadata": {
        "id": "mQiydtolGmDS"
      },
      "source": [
        "arr_22_int = ..."
      ],
      "execution_count": null,
      "outputs": []
    },
    {
      "cell_type": "code",
      "metadata": {
        "id": "PQOfknQBGmDT"
      },
      "source": [
        "assert np.array_equal(arr_22_int, [[0,0],[0,0]] )\n",
        "assert arr_22_int.dtype == np.int64"
      ],
      "execution_count": null,
      "outputs": []
    },
    {
      "cell_type": "markdown",
      "metadata": {
        "id": "Lg2NoltVGmDx"
      },
      "source": [
        "There are a few other methods numpy gives us to create new arrays with a specified shape. For instance, `np.ones` works exactly as you'd expect.\n",
        "\n",
        "Numpy also gives us methods to create arrays filled with random values.\n",
        "1. In the cell below, use `np.random.uniform` to create a numpy array with shape (5000,) filled with random values between -1 and 1. Store the result to a variale `uniformly_random`.\n",
        "1. Use `np.random.normal` to create a numpy array with shape (5000,) filled with [normally distributed](https://en.wikipedia.org/wiki/Normal_distribution) random values with mean 0 and standard deviation 1. Save the result to a variable `normal_random`.  "
      ]
    },
    {
      "cell_type": "code",
      "metadata": {
        "id": "Ec3y5CoFGmD3"
      },
      "source": [
        "uniformly_random = ...\n",
        "normal_random = ..."
      ],
      "execution_count": null,
      "outputs": []
    },
    {
      "cell_type": "markdown",
      "metadata": {
        "id": "tohKXD0oGmD4"
      },
      "source": [
        "What's the difference between these two methods? Rather than explaining, let's visualize the random data we've generated! A picture's worth a thousand words..."
      ]
    },
    {
      "cell_type": "markdown",
      "metadata": {
        "id": "zmS82o66GmD4"
      },
      "source": [
        "# Matplotlib"
      ]
    },
    {
      "cell_type": "markdown",
      "metadata": {
        "id": "5vabmRKTGmD5"
      },
      "source": [
        "Matplotlib is a library for creating 2 and 3-dimensional data visualizations. It has a simple and flexible api, and integrates nicely with jupyter notebooks."
      ]
    },
    {
      "cell_type": "markdown",
      "metadata": {
        "id": "-gTrhaPXGmD6"
      },
      "source": [
        "## Making Histograms\n",
        "\n",
        "1. Use `plt.hist` to create a [histogram](https://en.wikipedia.org/wiki/Histogram) representing the distribution of values in `uniformly_random`. Pass the keyword argument `bins` and set the number of bins to `7`.\n",
        "1. On a new line, use `plt.title` to give our histogram the title `Uniform Random Distribution` \n",
        "1. Use the `plt.show` method to display the histogram.\n",
        "\n",
        "If all goes well, you should create a histogram that appears similar to this:\n",
        "\n",
        "![](https://github.com/christygomez/ML-Unit-1SB-GeoLink/blob/main/docs/assets/images/uniform.png?raw=1)\n",
        "Bonus: Change the number of bins and see what happens in the graph."
      ]
    },
    {
      "cell_type": "code",
      "metadata": {
        "id": "F339ilKhGmD6"
      },
      "source": [
        "# Create histogram representing distribution of values in uniformly_random\n"
      ],
      "execution_count": null,
      "outputs": []
    },
    {
      "cell_type": "markdown",
      "metadata": {
        "id": "wX5KVHE1GmD7"
      },
      "source": [
        "1. Use `plt.hist` to create a histogram representing the distribution of values in `normal_random`. Pass the keyword argument `bins` and set the number of bins to `7`.\n",
        "1. On a new line, use `plt.title` to give our histogram the title `Normal Distribution` \n",
        "1. Use the `plt.show` method to display the histogram.\n",
        "\n",
        "If all goes well, you should create a histogram that appears similar to this:\n",
        "\n",
        "![](https://github.com/christygomez/ML-Unit-1SB-GeoLink/blob/main/docs/assets/images/normal.png?raw=1)"
      ]
    },
    {
      "cell_type": "code",
      "metadata": {
        "id": "5EDr9H7oGmD7"
      },
      "source": [
        "# Create histogram representing distribution of values in normal_random\n"
      ],
      "execution_count": null,
      "outputs": []
    },
    {
      "cell_type": "markdown",
      "metadata": {
        "id": "ZGj7HeY2GmD8"
      },
      "source": [
        "## Subplots and Saving a Figure"
      ]
    },
    {
      "cell_type": "markdown",
      "metadata": {
        "id": "lJByuyJlGmD8"
      },
      "source": [
        "It would be nice to compare the two histograms we've made side by side. Let's create a single *figure* that contains both histograms.\n",
        "\n",
        "1. Use `plt.figure` to start a new figure. Pass it the keyword argument `figsize` to determine the dimensions, in inches, of the final figure. `(10, 4)` works nicely but you may experiment with this yourself.\n",
        "1. Use `plt.subplot` to start a new subplot. We would like to have 1 row of subplots and 2 columns of subplots.\n",
        "1. Give the subplot the title `Uniform Random Distribution`.\n",
        "1. Use `plt.hist` to create a histogram from `uniformly_random`. In addition to passing the keyword argument `bins`, you may also pass the argument `color`. Feel free to explore the other parameters, too.\n",
        "1. Repeat steps 2-4 for `normal_random`, but with an appropriate title and a different color.\n",
        "1. Use `plt.savefig` to save the figure as an image. We'd like to store it as `assets/my-uniform-and-normal.png`.\n",
        "\n",
        "The file you save should appear similar to this:\n",
        "\n",
        "![](https://github.com/christygomez/ML-Unit-1SB-GeoLink/blob/main/docs/assets/images/uniform-and-normal.png?raw=1)"
      ]
    },
    {
      "cell_type": "code",
      "metadata": {
        "id": "1Iqz2R4QGmD9"
      },
      "source": [
        "# Create a figure containing both histograms\n"
      ],
      "execution_count": null,
      "outputs": []
    },
    {
      "cell_type": "markdown",
      "metadata": {
        "id": "bXTI4ZKnGmD9"
      },
      "source": [
        "# Generating and Visualizing Noisy Data"
      ]
    },
    {
      "cell_type": "markdown",
      "metadata": {
        "id": "4VNcHh_QGmD-"
      },
      "source": [
        "We'd like to generate a fake dataset to use as an example for a machine learning project. Before we get going, we need to introduce an important concept from numpy."
      ]
    },
    {
      "cell_type": "markdown",
      "metadata": {
        "id": "MyA3gJ7JGmD-"
      },
      "source": [
        "## Numpy Broadcasting"
      ]
    },
    {
      "cell_type": "markdown",
      "metadata": {
        "id": "R2cj2SLLGmD-"
      },
      "source": [
        "Suppose we have two numpy arrays with the same shape:"
      ]
    },
    {
      "cell_type": "code",
      "metadata": {
        "id": "spjxF9ltGmEE"
      },
      "source": [
        "summand1 = np.array([1,2,3])\n",
        "summand2 = np.array([4,5,6])"
      ],
      "execution_count": null,
      "outputs": []
    },
    {
      "cell_type": "markdown",
      "metadata": {
        "id": "TtLeDGqTGmEF"
      },
      "source": [
        "Suppose we'd like to add the individual components of the arrays together (i.e. we'd like to perform *component-wise addition*). We want the result to be `[5,7,9]`.\n",
        "\n",
        "We're in luck! By default, when we perform an operation like addition, subtraction, multiplication, etc. on two numpy arrays of the same shape, we will get back a new numpy array with the results of performing this operation *component-wise*. As proof, run the cell below."
      ]
    },
    {
      "cell_type": "code",
      "metadata": {
        "id": "vcA-IDAUGmEG"
      },
      "source": [
        "assert np.array_equal(summand1 + summand2, [5,7,9])"
      ],
      "execution_count": null,
      "outputs": []
    },
    {
      "cell_type": "markdown",
      "metadata": {
        "id": "9Fs7huTwGmEH"
      },
      "source": [
        "Numpy takes this a step further. Suppose we have a 2-dimensional numpy array:"
      ]
    },
    {
      "cell_type": "code",
      "metadata": {
        "id": "U8-kxA6vGmEH"
      },
      "source": [
        "array_of_summands = np.array([\n",
        "    [1,2,3],\n",
        "    [4,5,6],\n",
        "    [7,8,9],\n",
        "    [10,11,12]\n",
        "])"
      ],
      "execution_count": null,
      "outputs": []
    },
    {
      "cell_type": "markdown",
      "metadata": {
        "id": "dKzgBsz8GmEH"
      },
      "source": [
        "Here, our variable `array_of_summands` represents a collection of 4 different arrays that we'd like to add `summand1` to.\n",
        "\n",
        "If we were writing javascript, we might want to create a function that takes in one row from `array_of_summands` and returns the result of adding `summand1` to that row. Then we could map this function over `array_of_summands`.\n",
        "\n",
        "Numpy, however, takes a different approach. Try running the cell below:"
      ]
    },
    {
      "cell_type": "code",
      "metadata": {
        "id": "prV_B6XqGmEI"
      },
      "source": [
        "desired_result = np.array([\n",
        "    [2,4,6],\n",
        "    [5,7,9],\n",
        "    [8,10,12],\n",
        "    [11,13,15]\n",
        "])\n",
        "\n",
        "assert np.array_equal(array_of_summands + summand1, desired_result)"
      ],
      "execution_count": null,
      "outputs": []
    },
    {
      "cell_type": "markdown",
      "metadata": {
        "id": "eJ1P_qeGGmEI"
      },
      "source": [
        "Amazing! Numpy knows that what we really want to do is add `summand1` to each row of `array_of_summands`!\n",
        "\n",
        "So what's really happening under the hood? Numpy compares the shapes of these two arrays, and attempts to turn them into arrays that have the same shape. So when numpy sees we are trying to add an array with shape `(4,3)` with an array of shape `(3,)`, numpy will convert the smaller array to an array of shape `(4,3)` by repeating the single row 4 times. Then numpy will add the two arrays *component-wise*.\n",
        "\n",
        "The set of rules for how numpy internally alters/increases the dimensions of arrays in order to make component-wise operations work is called [*numpy broadcasting*](https://docs.scipy.org/doc/numpy/user/basics.broadcasting.html).\n",
        "\n",
        "Broadcasting works with scalars, too. For instance, see the code below:"
      ]
    },
    {
      "cell_type": "code",
      "metadata": {
        "id": "TIRn6L1ZGmEJ"
      },
      "source": [
        "mult_each_by_five = np.array([1,1,3,6])\n",
        "assert np.array_equal(5 * mult_each_by_five, [5,5,15,30])"
      ],
      "execution_count": null,
      "outputs": []
    },
    {
      "cell_type": "markdown",
      "metadata": {
        "id": "oeBDJCBtGmEJ"
      },
      "source": [
        "We will leverage numpy broadcasting throughout our code in the next few days.\n",
        "\n",
        "*Note, this explanation of broadcasting is a useful mental model, but not entirely accurate. Numpy aims to be space and time effecient, so it avoids making actual copies of values in a small array!*"
      ]
    },
    {
      "cell_type": "markdown",
      "metadata": {
        "id": "q-ngWuvVGmEK"
      },
      "source": [
        "## Creating a Data Set"
      ]
    },
    {
      "cell_type": "markdown",
      "metadata": {
        "id": "lNohidbuGmEK"
      },
      "source": [
        "Suppose we'd like to create a dataset that represents the high temperature in some fake city in the northern hemisphere each day of the year.\n",
        "\n",
        "1. First, use `np.arange` to create a one dimensional numpy array that holds the numbers `0` through `364`. `0` will represent January 1st, while `364` represents December 31st. Store the result in the variable `days`."
      ]
    },
    {
      "cell_type": "code",
      "metadata": {
        "id": "KpmNqJlFGmEL"
      },
      "source": [
        "days = ..."
      ],
      "execution_count": null,
      "outputs": []
    },
    {
      "cell_type": "markdown",
      "metadata": {
        "id": "-56GA52oGmEL"
      },
      "source": [
        "In our fictional city, the expected temperature of the $n^{th}$ day of the year is:\n",
        "\n",
        "$$-25 \\cos\\left(\\frac{2\\pi}{365} n\\right) + 57$$\n",
        "\n",
        "Notice that the code cell below has the relevant coefficients stored as variables for you to use.\n",
        "\n",
        "1. Create a numpy array of predicted temperature for each day of the year. You may want to look into the `np.cos` method. Save the result to the `predicted_temps` variable.\n",
        "1. Use numpy broadcasting to avoid writing any loops! \n",
        "1. You may apply all of the necessary operations in a single line of code, or split it out into multiple steps as implied by the provided code."
      ]
    },
    {
      "cell_type": "code",
      "metadata": {
        "id": "cce_QmnXGmEM"
      },
      "source": [
        "# If you didn't import the math package before, uncomment the line below\n",
        "import math\n",
        "\n",
        "# floats to use below\n",
        "days_coeff = 2. * math.pi / 365.\n",
        "cos_coeff = -25.\n",
        "cos_shift = 57.\n",
        "\n",
        "days_coeff_applied = ...\n",
        "cosine_applied = ...\n",
        "cos_coeff_applied = ...\n",
        "predicted_temps = ..."
      ],
      "execution_count": null,
      "outputs": []
    },
    {
      "cell_type": "markdown",
      "metadata": {
        "id": "Ezl5B3vYGmEM"
      },
      "source": [
        "Now we have a numpy array of predicted temperatures. Let's see what the data looks like!\n",
        "\n",
        "1. Use `plt.scatter` to create a scatter plot with the day of the year on the x-axis and the predicted temp on the y-axis.\n",
        "1. Show the plot with `plt.show`.\n",
        "\n",
        "Your plot should look something like: \n",
        "\n",
        "![](https://github.com/christygomez/ML-Unit-1SB-GeoLink/blob/main/docs/assets/images/predicted-temp-scatter.png?raw=1)"
      ]
    },
    {
      "cell_type": "code",
      "metadata": {
        "id": "_KiUQwDxGmEM"
      },
      "source": [
        "# Create you scatter plot below\n"
      ],
      "execution_count": null,
      "outputs": []
    },
    {
      "cell_type": "markdown",
      "metadata": {
        "id": "lHGlrCerGmEN"
      },
      "source": [
        "Our data doesn't look like real weather data - the weather is never that predictable! Let's create more believable temperature data by adding random noise to the `predicted_temps`.\n",
        "\n",
        "1. We will create an array of random values to add to the `predicted_temps` array. While we want the our random values to be random, we'd also like to be able to reproduce the same data set on separate runs of our program. To achieve this, we can [*seed* our random number generator](https://stackoverflow.com/questions/21494489/what-does-numpy-random-seed0-do). Use `np.random.seed` with a seed value of `10`.\n",
        "1. Use `np.random.normal` to create an array with shape `(365,)`. The values in this array should be drawn from a normal distribution with mean = 0 and standard deviation = 11. Save the result to a variable called `noise`.\n",
        "1. Add the `noise` array to the `predicted_temps` array to create more realistic temperature data. Store the result in the `fake_temp_data` array."
      ]
    },
    {
      "cell_type": "code",
      "metadata": {
        "id": "F8dn3UK-GmEN"
      },
      "source": [
        "# Seed the random number generator\n",
        "\n",
        "\n",
        "noise = ...\n",
        "fake_temp_data = ..."
      ],
      "execution_count": null,
      "outputs": []
    },
    {
      "cell_type": "markdown",
      "metadata": {
        "id": "hKT2F5hyGmEO"
      },
      "source": [
        "1. Create a scatter plot with the day of the year on the x-axis and the fake temperature data on the y-axis. Your plot should look something like this:\n",
        "\n",
        "![](https://github.com/christygomez/ML-Unit-1SB-GeoLink/blob/main/docs/assets/images/fake-temp-data-scatter.png?raw=1)"
      ]
    },
    {
      "cell_type": "code",
      "metadata": {
        "id": "So9ZTHtGGmEO"
      },
      "source": [
        "# Make your scatter plot below\n"
      ],
      "execution_count": null,
      "outputs": []
    },
    {
      "cell_type": "markdown",
      "metadata": {
        "id": "tX1UHP-GGmEO"
      },
      "source": [
        "## Reflection\n",
        "In the markdown cell below, comment on how we could improve our fake temperature data so that it is more realistic/more similar to real life temperature patterns."
      ]
    },
    {
      "cell_type": "markdown",
      "metadata": {
        "id": "IEQZlYElGmEP"
      },
      "source": [
        ""
      ]
    },
    {
      "cell_type": "markdown",
      "metadata": {
        "id": "DQoTGszNGmEb"
      },
      "source": [
        "*Congratulations on completing this introduction to Python for Machine Learning!*"
      ]
    }
  ]
}